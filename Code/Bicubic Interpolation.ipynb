{
 "cells": [
  {
   "cell_type": "code",
   "execution_count": 1,
   "metadata": {},
   "outputs": [],
   "source": [
    "import cv2"
   ]
  },
  {
   "cell_type": "code",
   "execution_count": 2,
   "metadata": {},
   "outputs": [],
   "source": [
    "img=cv2.imread('leaf.jpg')"
   ]
  },
  {
   "cell_type": "code",
   "execution_count": 3,
   "metadata": {},
   "outputs": [
    {
     "name": "stdout",
     "output_type": "stream",
     "text": [
      "[[[101  77  87]\n",
      "  [129 105 115]\n",
      "  [192 168 178]\n",
      "  ...\n",
      "  [147 122 136]\n",
      "  [176 151 165]\n",
      "  [155 130 144]]\n",
      "\n",
      " [[127 103 113]\n",
      "  [200 176 186]\n",
      "  [178 154 164]\n",
      "  ...\n",
      "  [155 130 144]\n",
      "  [161 136 150]\n",
      "  [129 104 118]]\n",
      "\n",
      " [[203 179 189]\n",
      "  [184 160 170]\n",
      "  [144 120 130]\n",
      "  ...\n",
      "  [162 137 151]\n",
      "  [160 135 149]\n",
      "  [140 115 129]]\n",
      "\n",
      " ...\n",
      "\n",
      " [[166 143 158]\n",
      "  [160 137 152]\n",
      "  [156 133 148]\n",
      "  ...\n",
      "  [120  97 112]\n",
      "  [135 112 127]\n",
      "  [126 103 118]]\n",
      "\n",
      " [[167 144 159]\n",
      "  [160 137 152]\n",
      "  [157 134 149]\n",
      "  ...\n",
      "  [120  97 112]\n",
      "  [131 108 123]\n",
      "  [136 113 128]]\n",
      "\n",
      " [[167 144 159]\n",
      "  [160 137 152]\n",
      "  [157 134 149]\n",
      "  ...\n",
      "  [111  88 103]\n",
      "  [114  91 106]\n",
      "  [127 104 119]]]\n"
     ]
    }
   ],
   "source": [
    "print(img)"
   ]
  },
  {
   "cell_type": "code",
   "execution_count": 4,
   "metadata": {},
   "outputs": [
    {
     "name": "stderr",
     "output_type": "stream",
     "text": [
      "\u001b[KProgress:[>                              ] 0.0%"
     ]
    },
    {
     "name": "stdout",
     "output_type": "stream",
     "text": [
      "Start bicubic interpolation\n",
      "It will take a little while...\n"
     ]
    },
    {
     "name": "stderr",
     "output_type": "stream",
     "text": [
      "\u001b[KProgress:[==============================] 100.0%%\n"
     ]
    },
    {
     "name": "stdout",
     "output_type": "stream",
     "text": [
      "Completed!\n"
     ]
    },
    {
     "data": {
      "text/plain": [
       "True"
      ]
     },
     "execution_count": 4,
     "metadata": {},
     "output_type": "execute_result"
    }
   ],
   "source": [
    "import cv2\n",
    "import numpy as np\n",
    "import math\n",
    "import sys, time\n",
    "\n",
    "# Interpolation kernel\n",
    "def u(s,a):\n",
    "    if (abs(s) >=0) & (abs(s) <=1):\n",
    "        return (a+2)*(abs(s)**3)-(a+3)*(abs(s)**2)+1\n",
    "    elif (abs(s) > 1) & (abs(s) <= 2):\n",
    "        return a*(abs(s)**3)-(5*a)*(abs(s)**2)+(8*a)*abs(s)-4*a\n",
    "    return 0\n",
    "\n",
    "#Paddnig\n",
    "def padding(img,H,W,C):\n",
    "    zimg = np.zeros((H+4,W+4,C))\n",
    "    zimg[2:H+2,2:W+2,:C] = img\n",
    "    #Pad the first/last two col and row\n",
    "    zimg[2:H+2,0:2,:C]=img[:,0:1,:C]\n",
    "    zimg[H+2:H+4,2:W+2,:]=img[H-1:H,:,:]\n",
    "    zimg[2:H+2,W+2:W+4,:]=img[:,W-1:W,:]\n",
    "    zimg[0:2,2:W+2,:C]=img[0:1,:,:C]\n",
    "    #Pad the missing eight points\n",
    "    zimg[0:2,0:2,:C]=img[0,0,:C]\n",
    "    zimg[H+2:H+4,0:2,:C]=img[H-1,0,:C]\n",
    "    zimg[H+2:H+4,W+2:W+4,:C]=img[H-1,W-1,:C]\n",
    "    zimg[0:2,W+2:W+4,:C]=img[0,W-1,:C]\n",
    "    return zimg\n",
    "\n",
    "# https://github.com/yunabe/codelab/blob/master/misc/terminal_progressbar/progress.py\n",
    "def get_progressbar_str(progress):\n",
    "    END = 170\n",
    "    MAX_LEN = 30\n",
    "    BAR_LEN = int(MAX_LEN * progress)\n",
    "    return ('Progress:[' + '=' * BAR_LEN +\n",
    "            ('>' if BAR_LEN < MAX_LEN else '') +\n",
    "            ' ' * (MAX_LEN - BAR_LEN) +\n",
    "            '] %.1f%%' % (progress * 100.))\n",
    "\n",
    "# Bicubic operation\n",
    "def bicubic(img, ratio, a):\n",
    "    #Get image size\n",
    "    H,W,C = img.shape\n",
    "\n",
    "    img = padding(img,H,W,C)\n",
    "    #Create new image\n",
    "    dH = math.floor(H*ratio)\n",
    "    dW = math.floor(W*ratio)\n",
    "    dst = np.zeros((dH, dW, 3))\n",
    "\n",
    "    h = 1/ratio\n",
    "\n",
    "    print('Start bicubic interpolation')\n",
    "    print('It will take a little while...')\n",
    "    inc = 0\n",
    "    for c in range(C):\n",
    "        for j in range(dH):\n",
    "            for i in range(dW):\n",
    "                x, y = i * h + 2 , j * h + 2\n",
    "\n",
    "                x1 = 1 + x - math.floor(x)\n",
    "                x2 = x - math.floor(x)\n",
    "                x3 = math.floor(x) + 1 - x\n",
    "                x4 = math.floor(x) + 2 - x\n",
    "\n",
    "                y1 = 1 + y - math.floor(y)\n",
    "                y2 = y - math.floor(y)\n",
    "                y3 = math.floor(y) + 1 - y\n",
    "                y4 = math.floor(y) + 2 - y\n",
    "\n",
    "                mat_l = np.matrix([[u(x1,a),u(x2,a),u(x3,a),u(x4,a)]])\n",
    "                mat_m = np.matrix([[img[int(y-y1),int(x-x1),c],img[int(y-y2),int(x-x1),c],img[int(y+y3),int(x-x1),c],img[int(y+y4),int(x-x1),c]],\n",
    "                                   [img[int(y-y1),int(x-x2),c],img[int(y-y2),int(x-x2),c],img[int(y+y3),int(x-x2),c],img[int(y+y4),int(x-x2),c]],\n",
    "                                   [img[int(y-y1),int(x+x3),c],img[int(y-y2),int(x+x3),c],img[int(y+y3),int(x+x3),c],img[int(y+y4),int(x+x3),c]],\n",
    "                                   [img[int(y-y1),int(x+x4),c],img[int(y-y2),int(x+x4),c],img[int(y+y3),int(x+x4),c],img[int(y+y4),int(x+x4),c]]])\n",
    "                mat_r = np.matrix([[u(y1,a)],[u(y2,a)],[u(y3,a)],[u(y4,a)]])\n",
    "                dst[j, i, c] = np.dot(np.dot(mat_l, mat_m),mat_r)\n",
    "\n",
    "                # Print progress\n",
    "                inc = inc + 1\n",
    "                sys.stderr.write('\\r\\033[K' + get_progressbar_str(inc/(C*dH*dW)))\n",
    "                sys.stderr.flush()\n",
    "    sys.stderr.write('\\n')\n",
    "    sys.stderr.flush()\n",
    "    return dst\n",
    "\n",
    "# Read image\n",
    "img = cv2.imread('butterfly.png')\n",
    "\n",
    "# Scale factor\n",
    "ratio = 2\n",
    "# Coefficient\n",
    "a = -1/2\n",
    "\n",
    "dst = bicubic(img, ratio, a)\n",
    "print('Completed!')\n",
    "cv2.imwrite('bicubic_butterfly.png', dst)"
   ]
  },
  {
   "cell_type": "code",
   "execution_count": null,
   "metadata": {},
   "outputs": [],
   "source": []
  }
 ],
 "metadata": {
  "kernelspec": {
   "display_name": "Python 3",
   "language": "python",
   "name": "python3"
  },
  "language_info": {
   "codemirror_mode": {
    "name": "ipython",
    "version": 3
   },
   "file_extension": ".py",
   "mimetype": "text/x-python",
   "name": "python",
   "nbconvert_exporter": "python",
   "pygments_lexer": "ipython3",
   "version": "3.7.3"
  }
 },
 "nbformat": 4,
 "nbformat_minor": 2
}
