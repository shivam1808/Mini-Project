{
 "cells": [
  {
   "cell_type": "code",
   "execution_count": 2,
   "metadata": {},
   "outputs": [
    {
     "data": {
      "text/plain": [
       "'/home/shivam-gupta/Downloads/Plant Diseases Detector'"
      ]
     },
     "execution_count": 2,
     "metadata": {},
     "output_type": "execute_result"
    }
   ],
   "source": [
    "pwd"
   ]
  },
  {
   "cell_type": "code",
   "execution_count": 3,
   "metadata": {},
   "outputs": [],
   "source": [
    "import sys\n",
    "import os\n",
    "import cv2\n",
    "from PIL import Image\n",
    "\n",
    "directory = 'Image/'\n",
    "imagecount = 1\n",
    "\n",
    "os.makedirs(directory, exist_ok=True)\n",
    "\n",
    "video = cv2.VideoCapture(0)\n",
    "\n",
    "filename = len(os.listdir(directory))\n",
    "count = True\n",
    "\n",
    "while True and count:\n",
    "        _, frame = video.read()\n",
    "        \n",
    "        im = cv2.cvtColor(frame,cv2.COLOR_BGR2GRAY)\n",
    "        key=cv2.waitKey(1)\n",
    "        \n",
    "        cv2.imshow(\"Capturing\", frame)\n",
    "        \n",
    "        if key == ord('c'):\n",
    "            cv2.imwrite(\"Image/1.jpg\",im)\n",
    "            count = False\n",
    "            \n",
    "        \n",
    "        if key == ord('q'):\n",
    "                break\n",
    "video.release()\n",
    "cv2.destroyAllWindows()"
   ]
  },
  {
   "cell_type": "code",
   "execution_count": null,
   "metadata": {},
   "outputs": [],
   "source": []
  }
 ],
 "metadata": {
  "kernelspec": {
   "display_name": "Python 3",
   "language": "python",
   "name": "python3"
  },
  "language_info": {
   "codemirror_mode": {
    "name": "ipython",
    "version": 3
   },
   "file_extension": ".py",
   "mimetype": "text/x-python",
   "name": "python",
   "nbconvert_exporter": "python",
   "pygments_lexer": "ipython3",
   "version": "3.7.3"
  }
 },
 "nbformat": 4,
 "nbformat_minor": 2
}
